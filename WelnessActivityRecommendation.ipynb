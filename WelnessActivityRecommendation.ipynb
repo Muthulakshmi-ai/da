{
 "cells": [
  {
   "cell_type": "markdown",
   "id": "033730c1",
   "metadata": {},
   "source": [
    "We could use a collaborative filtering approach to build this recommendation system. Collaborative filtering is a technique that can be used to find similarities between users based on their behavior or preferences. In this case, you could use the maskid and campaign columns to find users who have attended similar campaigns and then recommend campaigns to users based on the behavior of similar users.\n"
   ]
  },
  {
   "cell_type": "code",
   "execution_count": null,
   "id": "e1a4e998",
   "metadata": {},
   "outputs": [],
   "source": [
    "import pandas as pd\n",
    "\n",
    "# Load the data from the .csv file\n",
    "data = pd.read_excel('wellAP.xlsx')\n",
    "\n",
    "data.head()"
   ]
  },
  {
   "cell_type": "code",
   "execution_count": null,
   "id": "d920f08a",
   "metadata": {},
   "outputs": [],
   "source": [
    "data.info()"
   ]
  },
  {
   "cell_type": "markdown",
   "id": "f9960f1f",
   "metadata": {},
   "source": [
    "The below code creates a pivot table from your data with maskid as rows and campaign as columns. The values in the pivot table represent the count of each campaign for each user. "
   ]
  },
  {
   "cell_type": "code",
   "execution_count": null,
   "id": "dfae2294",
   "metadata": {},
   "outputs": [],
   "source": [
    "# Create a pivot table with maskid as rows, campaign as columns, and count of campaign as values\n",
    "pivot_table = pd.pivot_table(data, index='cif_id', columns='Campaign', aggfunc='size', fill_value=0)\n",
    "\n",
    "pivot_table\n"
   ]
  },
  {
   "cell_type": "code",
   "execution_count": null,
   "id": "c9be9845",
   "metadata": {},
   "outputs": [],
   "source": []
  },
  {
   "cell_type": "markdown",
   "id": "13965bf1",
   "metadata": {},
   "source": [
    "The below code now calculates the similarity between users using the cosine similarity metric and stores the result in a DataFrame. The get_similar_users function can be used to get the top n most similar users for a given user. The get_campaign_recommendations function uses this information to recommend campaigns to a user based on the behavior of similar users."
   ]
  },
  {
   "cell_type": "code",
   "execution_count": null,
   "id": "01566990",
   "metadata": {},
   "outputs": [],
   "source": [
    "# Calculate the similarity between users using the cosine similarity metric\n",
    "from sklearn.metrics.pairwise import cosine_similarity\n",
    "user_similarity = cosine_similarity(pivot_table)\n",
    "\n",
    "# Convert the similarity matrix into a DataFrame\n",
    "user_similarity_df = pd.DataFrame(user_similarity, index=pivot_table.index, columns=pivot_table.index)\n",
    "\n",
    "# Function to get top n similar users for a given user\n",
    "def get_similar_users(user, n):\n",
    "    # Get the similarity scores for the given user\n",
    "    similarity_scores = user_similarity_df[user]\n",
    "    # Sort the similarity scores in descending order\n",
    "    sorted_scores = similarity_scores.sort_values(ascending=False)\n",
    "    # Get the top n most similar users (excluding the first result which is the user itself)\n",
    "    top_similar_users = sorted_scores.iloc[1:n+1]\n",
    "    return top_similar_users\n",
    "\n",
    "# Function to get campaign recommendations for a given user\n",
    "def get_campaign_recommendations(user, n):\n",
    "    # Get the top n most similar users for the given user\n",
    "    similar_users = get_similar_users(user, n)\n",
    "    # Get the campaigns attended by the similar users\n",
    "    similar_users_campaigns = pivot_table.loc[similar_users.index]\n",
    "    # Calculate the mean attendance for each campaign across the similar users\n",
    "    mean_attendance = similar_users_campaigns.mean()\n",
    "    # Round the mean attendance values to 4 decimal places\n",
    "    mean_attendance = mean_attendance.round(4)\n",
    "    # Sort the mean attendance in descending order\n",
    "    sorted_mean_attendance = mean_attendance.sort_values(ascending=False)\n",
    "    # Get the top n recommended campaigns\n",
    "    recommended_campaigns = sorted_mean_attendance.iloc[:n]\n",
    "    return recommended_campaigns\n",
    "\n"
   ]
  },
  {
   "cell_type": "code",
   "execution_count": null,
   "id": "ba475ced",
   "metadata": {
    "scrolled": true
   },
   "outputs": [],
   "source": [
    "# Example usage: get top 5 campaign recommendations for user 916783\n",
    "print(get_campaign_recommendations(916783, 5))\n"
   ]
  },
  {
   "cell_type": "markdown",
   "id": "09bf85f1",
   "metadata": {},
   "source": [
    "Read the last comments to interpret these values.\n",
    "\n",
    "**NOTE**: Please use this code on the original dataset with actual campaign names. Right now, the campaigns are differents from one another only by the digit."
   ]
  },
  {
   "cell_type": "code",
   "execution_count": null,
   "id": "bc0ae5fd",
   "metadata": {},
   "outputs": [],
   "source": [
    "# Just checking which all campaigns this user has attended\n",
    "pivot_table.loc[3999499]\n",
    "\n",
    "# it indicates the user 3999499 has attended campaign Will Writing Workshop 4 times."
   ]
  },
  {
   "cell_type": "code",
   "execution_count": null,
   "id": "f4d82583",
   "metadata": {},
   "outputs": [],
   "source": []
  },
  {
   "cell_type": "code",
   "execution_count": null,
   "id": "f5906fcb",
   "metadata": {},
   "outputs": [],
   "source": [
    "# Example usage: get top 5 campaign recommendations for user 3999499\n",
    "print(get_campaign_recommendations(3999499, 5))"
   ]
  },
  {
   "cell_type": "markdown",
   "id": "1b23eb54",
   "metadata": {},
   "source": [
    "The values 1.0 and 0.0 in the final output of the code represent the mean attendance of each recommended campaign across the similar users. The get_campaign_recommendations function calculates the mean attendance for each campaign across the similar users and returns the top n recommended campaigns based on their mean attendance.\n",
    "\n",
    "In other words, a value of 1.0 for a campaign means that all of the similar users have attended that campaign, while a value of 0.0 means that none of the similar users have attended that campaign. Values between 0.0 and 1.0 represent the proportion of similar users who have attended that campaign."
   ]
  },
  {
   "cell_type": "markdown",
   "id": "40ae9f38",
   "metadata": {},
   "source": [
    "The values between 0.0 and 1.0 in the final recommendation represent the average attendance of each recommended campaign across the similar users. A value closer to 1.0 means that a higher proportion of similar users have attended that campaign, while a value closer to 0.0 means that a lower proportion of similar users have attended that campaign.\n",
    "\n",
    "For example, if a recommended campaign has a value of 0.75, this means that 75% of the similar users have attended that campaign. Similarly, if a recommended campaign has a value of 0.25, this means that only 25% of the similar users have attended that campaign."
   ]
  },
  {
   "cell_type": "markdown",
   "id": "76ff8463",
   "metadata": {},
   "source": [
    "**Is this recommendation system accurate?**\n",
    "\n",
    "We cannot determine it as there is no historical data to verify and test the predictions. However, with the recommendations provided based on this prediction, we can check in future if the user is opting for those recommendations or not. Such choice of users can be captured and then the recommendation system can be evaluated to be accurate or not. "
   ]
  },
  {
   "cell_type": "markdown",
   "id": "95049a83",
   "metadata": {},
   "source": [
    "**Can we add more columns such as genders in the recommendation system?**\n",
    "\n",
    "Yes, it can be added. However, I did not see any significant difference with the gender. It could be because of the small data or we need to check with some more and different maskid. \n",
    "\n",
    "Below is the code that I tried taking maskid, campaign and gender columns."
   ]
  },
  {
   "cell_type": "code",
   "execution_count": null,
   "id": "1abf6400",
   "metadata": {
    "scrolled": true
   },
   "outputs": [],
   "source": [
    "# Function to get campaign recommendations for a given user and gender\n",
    "def get_campaign_recommendations(user, gender, n):\n",
    "    # Filter the data based on the selected gender\n",
    "    data_gender = data[data['gender'] == gender]\n",
    "    \n",
    "    # Create a pivot table with maskid as rows, campaign as columns, and count of campaign as values\n",
    "    pivot_table = pd.pivot_table(data_gender, index='cif_id', columns='Campaign', aggfunc='size', fill_value=0)\n",
    "\n",
    "    # Calculate the similarity between users using the cosine similarity metric\n",
    "    from sklearn.metrics.pairwise import cosine_similarity\n",
    "    user_similarity = cosine_similarity(pivot_table)\n",
    "\n",
    "    # Convert the similarity matrix into a DataFrame\n",
    "    user_similarity_df = pd.DataFrame(user_similarity, index=pivot_table.index, columns=pivot_table.index)\n",
    "\n",
    "    # Function to get top n similar users for a given user\n",
    "    def get_similar_users(user, n):\n",
    "        # Get the similarity scores for the given user\n",
    "        similarity_scores = user_similarity_df[user]\n",
    "        # Sort the similarity scores in descending order\n",
    "        sorted_scores = similarity_scores.sort_values(ascending=False)\n",
    "        # Get the top n most similar users (excluding the first result which is the user itself)\n",
    "        top_similar_users = sorted_scores.iloc[1:n+1]\n",
    "        return top_similar_users\n",
    "\n",
    "    # Get the top n most similar users for the given user\n",
    "    similar_users = get_similar_users(user, n)\n",
    "    # Get the campaigns attended by the similar users\n",
    "    similar_users_campaigns = pivot_table.loc[similar_users.index]\n",
    "    # Calculate the mean attendance for each campaign across the similar users\n",
    "    mean_attendance = similar_users_campaigns.mean()\n",
    "    # Round the mean attendance values to 4 decimal places\n",
    "    mean_attendance = mean_attendance.round(4)\n",
    "    # Sort the mean attendance in descending order\n",
    "    sorted_mean_attendance = mean_attendance.sort_values(ascending=False)\n",
    "    # Get the top n recommended campaigns\n",
    "    recommended_campaigns = sorted_mean_attendance.iloc[:n]\n",
    "    return recommended_campaigns\n",
    "\n",
    "# Example usage: get top 5 campaign recommendations for user 1 and gender 1\n",
    "print(get_campaign_recommendations(3999499, \"M\", 3))"
   ]
  },
  {
   "cell_type": "code",
   "execution_count": null,
   "id": "26ccb8f5",
   "metadata": {},
   "outputs": [],
   "source": [
    "# Function to get campaign recommendations for a given user and zip code\n",
    "def get_campaign_recommendations(user, cfzip_partial, n):\n",
    "    # Filter the data based on the selected gender\n",
    "    #data_gender = data[data['gender'] == gender]\n",
    "    data_cfzip_partial=data[data['cfzip_partial']== cfzip_partial]\n",
    "    \n",
    "    # Create a pivot table with maskid as rows, campaign as columns, and count of campaign as values\n",
    "    pivot_table = pd.pivot_table(data_cfzip_partial, index='cif_id', columns='Campaign', aggfunc='size', fill_value=0)\n",
    "\n",
    "    # Calculate the similarity between users using the cosine similarity metric\n",
    "    from sklearn.metrics.pairwise import cosine_similarity\n",
    "    user_similarity = cosine_similarity(pivot_table)\n",
    "\n",
    "    # Convert the similarity matrix into a DataFrame\n",
    "    user_similarity_df = pd.DataFrame(user_similarity, index=pivot_table.index, columns=pivot_table.index)\n",
    "\n",
    "    # Function to get top n similar users for a given user\n",
    "    def get_similar_users(user, n):\n",
    "        # Get the similarity scores for the given user\n",
    "        similarity_scores = user_similarity_df[user]\n",
    "        # Sort the similarity scores in descending order\n",
    "        sorted_scores = similarity_scores.sort_values(ascending=False)\n",
    "        # Get the top n most similar users (excluding the first result which is the user itself)\n",
    "        top_similar_users = sorted_scores.iloc[1:n+1]\n",
    "        return top_similar_users\n",
    "\n",
    "    # Get the top n most similar users for the given user\n",
    "    similar_users = get_similar_users(user, n)\n",
    "    # Get the campaigns attended by the similar users\n",
    "    similar_users_campaigns = pivot_table.loc[similar_users.index]\n",
    "    # Calculate the mean attendance for each campaign across the similar users\n",
    "    mean_attendance = similar_users_campaigns.mean()\n",
    "    # Round the mean attendance values to 4 decimal places\n",
    "    mean_attendance = mean_attendance.round(4)\n",
    "    # Sort the mean attendance in descending order\n",
    "    sorted_mean_attendance = mean_attendance.sort_values(ascending=False)\n",
    "    # Get the top n recommended campaigns\n",
    "    recommended_campaigns = sorted_mean_attendance.iloc[:n]\n",
    "    return recommended_campaigns\n",
    "\n",
    "# Example usage: get top 5 campaign recommendations for user 1 and gender 1\n",
    "print(\"Recommended\", get_campaign_recommendations(3999499,520,3))\n"
   ]
  },
  {
   "cell_type": "code",
   "execution_count": null,
   "id": "3c35bb48",
   "metadata": {},
   "outputs": [],
   "source": [
    "# Function to get campaign recommendations for a given user , gender and zip code\n",
    "def get_campaign_recommendations(user, cfzip_partial,gender, n):\n",
    "    # Filter the data based on the selected gender\n",
    "    data_gender = data[data['gender'] == gender]\n",
    "    data_cfzip_partial=data[data['cfzip_partial']== cfzip_partial]\n",
    "    \n",
    "    # Create a pivot table with maskid as rows, campaign as columns, and count of campaign as values\n",
    "    pivot_table = pd.pivot_table(data_gender, data_cfzip_partial, index='cif_id', columns='Campaign', aggfunc='size', fill_value=0)\n",
    "\n",
    "    # Calculate the similarity between users using the cosine similarity metric\n",
    "    from sklearn.metrics.pairwise import cosine_similarity\n",
    "    user_similarity = cosine_similarity(pivot_table)\n",
    "\n",
    "    # Convert the similarity matrix into a DataFrame\n",
    "    user_similarity_df = pd.DataFrame(user_similarity, index=pivot_table.index, columns=pivot_table.index)\n",
    "\n",
    "    # Function to get top n similar users for a given user\n",
    "    def get_similar_users(user, n):\n",
    "        # Get the similarity scores for the given user\n",
    "        similarity_scores = user_similarity_df[user]\n",
    "        # Sort the similarity scores in descending order\n",
    "        sorted_scores = similarity_scores.sort_values(ascending=False)\n",
    "        # Get the top n most similar users (excluding the first result which is the user itself)\n",
    "        top_similar_users = sorted_scores.iloc[1:n+1]\n",
    "        return top_similar_users\n",
    "\n",
    "    # Get the top n most similar users for the given user\n",
    "    similar_users = get_similar_users(user, n)\n",
    "    # Get the campaigns attended by the similar users\n",
    "    similar_users_campaigns = pivot_table.loc[similar_users.index]\n",
    "    # Calculate the mean attendance for each campaign across the similar users\n",
    "    mean_attendance = similar_users_campaigns.mean()\n",
    "    # Round the mean attendance values to 4 decimal places\n",
    "    mean_attendance = mean_attendance.round(4)\n",
    "    # Sort the mean attendance in descending order\n",
    "    sorted_mean_attendance = mean_attendance.sort_values(ascending=False)\n",
    "    # Get the top n recommended campaigns\n",
    "    recommended_campaigns = sorted_mean_attendance.iloc[:n]\n",
    "    return recommended_campaigns\n",
    "\n",
    "# Example usage: get top 5 campaign recommendations for user 1 and gender 1\n",
    "# print(\"Recommended\", get_campaign_recommendations(3999499,520,\"M\", 3))\n",
    "\n",
    "cifID = int(input(\"Cif ID:\" ))\n",
    "postal_code = input(\"First 3 digit of your postal code: \")\n",
    "user_gender = input(\"Male/Female?: \")\n",
    "NoofRec = int(input(\"Number of recommendations:\"  ))\n",
    "\n",
    "\n",
    "print(get_campaign_recommendations(cifID, postal_code, user_gender, NoofRec))\n"
   ]
  },
  {
   "cell_type": "markdown",
   "id": "22c9c9aa",
   "metadata": {},
   "source": [
    "**Some other variations that you can try?**\n",
    "\n",
    "You can use the same code for two different datasets - by filtering for Male and Female. You can drop/remove the rows with missing genders. This way, the recommendations **may** be more accurate, but that cannot be tested without having the historical data.\n",
    "\n",
    "Do not forget to use this code (by correcting the column names) on your original data."
   ]
  }
 ],
 "metadata": {
  "kernelspec": {
   "display_name": "Python 3 (ipykernel)",
   "language": "python",
   "name": "python3"
  },
  "language_info": {
   "codemirror_mode": {
    "name": "ipython",
    "version": 3
   },
   "file_extension": ".py",
   "mimetype": "text/x-python",
   "name": "python",
   "nbconvert_exporter": "python",
   "pygments_lexer": "ipython3",
   "version": "3.9.13"
  }
 },
 "nbformat": 4,
 "nbformat_minor": 5
}
