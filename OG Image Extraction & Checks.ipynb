{
 "cells": [
  {
   "cell_type": "markdown",
   "id": "b5a20d26",
   "metadata": {},
   "source": [
    "<h2 style=\"color:blue\">1. Configurations</h2>"
   ]
  },
  {
   "cell_type": "code",
   "execution_count": null,
   "id": "4c4d3fcc",
   "metadata": {},
   "outputs": [],
   "source": [
    "# Name of the Excel file that contains the list of URLs to check.\n",
    "input_path = \"input_urls.xlsx\"\n",
    "\n",
    "# Name of the folder where the downloaded OG images will be stored.\n",
    "folder_name = \"og images\""
   ]
  },
  {
   "cell_type": "markdown",
   "id": "6d995858",
   "metadata": {},
   "source": [
    "<h2 style=\"color:blue\">2. Libraries that are required to run the script. Only need to run once</h2>"
   ]
  },
  {
   "cell_type": "code",
   "execution_count": null,
   "id": "b91e7de0",
   "metadata": {},
   "outputs": [],
   "source": [
    "import pandas as pd\n",
    "import requests\n",
    "import os\n",
    "from bs4 import BeautifulSoup\n",
    "from openpyxl import load_workbook\n",
    "from tqdm import tqdm\n",
    "from urllib.parse import urlparse"
   ]
  },
  {
   "cell_type": "markdown",
   "id": "6f2b9f66",
   "metadata": {},
   "source": [
    "<h2 style=\"color:blue\">3. Run the script below to:</h2>\n",
    "    <ol>\n",
    "    <li>Extract the URL of OG image for each URL.</li>\n",
    "    <li>Check if the OG image is accessible or not</li></ol>"
   ]
  },
  {
   "cell_type": "code",
   "execution_count": null,
   "id": "3e01fbad",
   "metadata": {
    "scrolled": false
   },
   "outputs": [],
   "source": [
    "def check_url_accessibility(url):\n",
    "    try:\n",
    "        response = requests.get(url, timeout=10)\n",
    "        if response.status_code == 200:\n",
    "            return \"Accessible\", None\n",
    "        else:\n",
    "            return \"Broken\", f\"HTTP Status Code: {response.status_code}\"\n",
    "    except requests.RequestException as e:\n",
    "        return \"Broken\", str(e)\n",
    "\n",
    "def extract_og_image_url(url):\n",
    "    try:\n",
    "        response = requests.get(url, timeout=10)\n",
    "        response.raise_for_status()\n",
    "        soup = BeautifulSoup(response.content, 'html.parser')\n",
    "        og_image = soup.find('meta', property='og:image')\n",
    "        if og_image and og_image.get('content'):\n",
    "            return og_image['content'], None\n",
    "        else:\n",
    "            return None, \"No OG image meta tag found\"\n",
    "    except requests.RequestException as e:\n",
    "        return None, str(e)\n",
    "\n",
    "def update_excel_file(file_path, data):\n",
    "    book = load_workbook(file_path)\n",
    "    sheet = book.active\n",
    "\n",
    "    for idx, row in data.iterrows():\n",
    "        sheet.cell(row=row.name+2, column=2, value=row['OG Image URL'])\n",
    "        sheet.cell(row=row.name+2, column=3, value=row['Accessibility'])\n",
    "        sheet.cell(row=row.name+2, column=4, value=row['Remarks'])\n",
    "\n",
    "    book.save(file_path)\n",
    "    print(f\"Excel file updated for rows {data.index[0]+2} to {data.index[-1]+2}\")\n",
    "\n",
    "def main(file_path):\n",
    "    try:\n",
    "        df = pd.read_excel(file_path, engine='openpyxl')\n",
    "    except Exception as e:\n",
    "        print(f\"Error reading Excel file: {e}\")\n",
    "        return\n",
    "\n",
    "    total_urls = len(df)\n",
    "    batch_size = 10\n",
    "\n",
    "    for i in range(0, total_urls, batch_size):\n",
    "        batch = df.iloc[i:i+batch_size]\n",
    "        \n",
    "        for j, row in batch.iterrows():\n",
    "            if pd.notna(row['OG Image URL']) and pd.notna(row['Accessibility']) and pd.notna(row['Remarks']):\n",
    "                continue\n",
    "\n",
    "            url = row['URL']\n",
    "            if pd.isna(row['OG Image URL']):\n",
    "                og_image_url, error = extract_og_image_url(url)\n",
    "                df.at[j, 'OG Image URL'] = og_image_url if og_image_url else \"\"\n",
    "                df.at[j, 'Remarks'] = error if error else \"\"\n",
    "\n",
    "            if pd.isna(row['Accessibility']):\n",
    "                accessibility, error = check_url_accessibility(df.at[j, 'OG Image URL'])\n",
    "                df.at[j, 'Accessibility'] = accessibility\n",
    "                df.at[j, 'Remarks'] = error if error else \"\"\n",
    "\n",
    "        update_excel_file(file_path, df.iloc[i:i+batch_size])\n",
    "        \n",
    "        print(f\"Progress: {i+batch_size}/{total_urls} URLs processed\")\n",
    "\n",
    "    print(f\"Script completed. Data saved to {file_path}\")\n",
    "\n",
    "if __name__ == \"__main__\":\n",
    "    main(input_path)"
   ]
  },
  {
   "cell_type": "markdown",
   "id": "ccfb008b",
   "metadata": {},
   "source": [
    "<h2 style=\"color:blue\">4. Run the script below to:</h2>\n",
    "    <ol>\n",
    "    <li>Download all the valid OG images for each URL in the specified folder</li>\n",
    "    <li>Name the OG images accordingly</li>"
   ]
  },
  {
   "cell_type": "code",
   "execution_count": null,
   "id": "cb88adf6",
   "metadata": {
    "scrolled": false
   },
   "outputs": [],
   "source": [
    "def download_image(url, folder_name):\n",
    "    response = requests.get(url, stream=True)\n",
    "    if response.status_code == 200:\n",
    "        parsed_url = urlparse(url)\n",
    "        image_name = os.path.basename(parsed_url.path)\n",
    "        image_path = os.path.join(folder_name, image_name)\n",
    "        with open(image_path, 'wb') as file:\n",
    "            for chunk in response.iter_content(1024):\n",
    "                file.write(chunk)\n",
    "        return True\n",
    "    return False\n",
    "\n",
    "def main(file_path):\n",
    "    try:\n",
    "        df = pd.read_excel(file_path, engine='openpyxl')\n",
    "    except Exception as e:\n",
    "        print(f\"Error reading Excel file: {e}\")\n",
    "        return\n",
    "    \n",
    "    if not os.path.exists(folder_name):\n",
    "        os.makedirs(folder_name)\n",
    "\n",
    "    accessible_df = df[(df['Accessibility'] == 'Accessible') & pd.notna(df['OG Image URL'])]\n",
    "    total_images = len(accessible_df)\n",
    "    downloaded_count = 0\n",
    "\n",
    "    for _, row in tqdm(accessible_df.iterrows(), total=total_images, desc=\"Downloading images\"):\n",
    "        og_image_url = row['OG Image URL']\n",
    "        \n",
    "        try:\n",
    "            if download_image(og_image_url, folder_name):\n",
    "                downloaded_count += 1\n",
    "        except Exception as e:\n",
    "            print(f\"Error downloading image from {og_image_url}: {e}\")\n",
    "\n",
    "    print(f\"\\nScript completed successfully. {downloaded_count}/{total_images} images downloaded.\")\n",
    "    print(f\"Images are saved in the folder: {os.path.abspath(folder_name)}\")\n",
    "\n",
    "if __name__ == \"__main__\":\n",
    "    main(input_path)"
   ]
  }
 ],
 "metadata": {
  "kernelspec": {
   "display_name": "Python 3 (ipykernel)",
   "language": "python",
   "name": "python3"
  },
  "language_info": {
   "codemirror_mode": {
    "name": "ipython",
    "version": 3
   },
   "file_extension": ".py",
   "mimetype": "text/x-python",
   "name": "python",
   "nbconvert_exporter": "python",
   "pygments_lexer": "ipython3",
   "version": "3.9.13"
  }
 },
 "nbformat": 4,
 "nbformat_minor": 5
}
